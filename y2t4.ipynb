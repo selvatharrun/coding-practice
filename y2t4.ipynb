{
 "cells": [
  {
   "cell_type": "code",
   "execution_count": 6,
   "metadata": {},
   "outputs": [
    {
     "name": "stdout",
     "output_type": "stream",
     "text": [
      "[['' 'O' '']\n",
      " ['' 'T' '']\n",
      " ['' '^' '']]\n"
     ]
    }
   ],
   "source": [
    "import numpy as np\n",
    "\n",
    "# Define the size of the canvas\n",
    "canvas_width = 3\n",
    "canvas_height = 3\n",
    "\n",
    "# Create an empty canvas\n",
    "canvas = np.zeros((canvas_height, canvas_width), dtype=int)\n",
    "\n",
    "# Draw the teddy bear\n",
    "canvas[0,1] = 0 # Head\n",
    "canvas[1, 1] = 1  # Eye\n",
    "canvas[2, 1] =   # Eye\n",
    "\n",
    "# Print the teddy bear\n",
    "print(canvas)\n"
   ]
  },
  {
   "cell_type": "code",
   "execution_count": 11,
   "metadata": {},
   "outputs": [
    {
     "ename": "ValueError",
     "evalue": "shapes (6,14) and (6,14) not aligned: 14 (dim 1) != 6 (dim 0)",
     "output_type": "error",
     "traceback": [
      "\u001b[1;31m---------------------------------------------------------------------------\u001b[0m",
      "\u001b[1;31mValueError\u001b[0m                                Traceback (most recent call last)",
      "Cell \u001b[1;32mIn[11], line 14\u001b[0m\n\u001b[0;32m     10\u001b[0m x\u001b[38;5;241m=\u001b[39m np\u001b[38;5;241m.\u001b[39masmatrix(x)\n\u001b[0;32m     12\u001b[0m x\u001b[38;5;241m=\u001b[39m np\u001b[38;5;241m.\u001b[39mtranspose(x)\n\u001b[1;32m---> 14\u001b[0m T \u001b[38;5;241m=\u001b[39m \u001b[43mx\u001b[49m\u001b[38;5;241;43m.\u001b[39;49m\u001b[43mdot\u001b[49m\u001b[43m(\u001b[49m\u001b[43mx\u001b[49m\u001b[43m)\u001b[49m\n\u001b[0;32m     16\u001b[0m inv \u001b[38;5;241m=\u001b[39m np\u001b[38;5;241m.\u001b[39mlinalg\u001b[38;5;241m.\u001b[39minv(T)\n\u001b[0;32m     18\u001b[0m theta \u001b[38;5;241m=\u001b[39m (inv\u001b[38;5;241m.\u001b[39mdot(x\u001b[38;5;241m.\u001b[39mT))\u001b[38;5;241m.\u001b[39mdot(y)\n",
      "\u001b[1;31mValueError\u001b[0m: shapes (6,14) and (6,14) not aligned: 14 (dim 1) != 6 (dim 0)"
     ]
    }
   ],
   "source": [
    "import pandas as pd\n",
    "import numpy as np\n",
    "\n",
    "df= pd.read_csv(\"baseball.csv\")\n",
    "df1= df.head(14)\n",
    "\n",
    "x = df1[[\"RS\",\"RA\",\"W\",\"OBP\",\"SLG\",\"BA\"]]\n",
    "y = df1[\"OOBP\"]\n",
    "\n",
    "x= np.asmatrix(x)\n",
    "\n",
    "x= np.transpose(x)\n",
    "\n",
    "T = x.dot(x)\n",
    "\n",
    "inv = np.linalg.inv(T)\n",
    "\n",
    "theta = (inv.dot(x.T)).dot(y)\n",
    "print(theta)"
   ]
  },
  {
   "cell_type": "markdown",
   "metadata": {},
   "source": [
    "SINGULAR VALUE DECOPOSITION\n",
    "\n",
    "USED TO GET RID OF REDUNDANT DATA IN DATASET"
   ]
  },
  {
   "cell_type": "code",
   "execution_count": 7,
   "metadata": {},
   "outputs": [
    {
     "name": "stdout",
     "output_type": "stream",
     "text": [
      "11\n"
     ]
    }
   ],
   "source": [
    "#COIN FLIP PREDICTION USING SCIPY, USING BINOMIAL DISTRIBUTION\n",
    "from scipy.stats import binom\n",
    "\n",
    "n=21#trials\n",
    "p=0.5#prob of getting head or tail\n",
    "\n",
    "binom_dist = binom(n,p)\n",
    "\n",
    "#calculate the number of getting even number of heads\n",
    "even_prob = binom_dist.pmf(range(0,22,2))\n",
    "\n",
    "print(len(even_prob))\n",
    "\n"
   ]
  },
  {
   "cell_type": "code",
   "execution_count": null,
   "metadata": {},
   "outputs": [],
   "source": [
    "import matplotlib.pyplot as plt\n",
    "import seaborn as sns\n",
    "import numpy as np\n",
    "\n",
    "mu,sigma = 175,6\n",
    "data = np.random.normal(mu,sigma,10000)\n",
    "\n",
    "p=norm.cdf()"
   ]
  },
  {
   "cell_type": "code",
   "execution_count": null,
   "metadata": {},
   "outputs": [],
   "source": []
  }
 ],
 "metadata": {
  "kernelspec": {
   "display_name": "Python 3",
   "language": "python",
   "name": "python3"
  },
  "language_info": {
   "codemirror_mode": {
    "name": "ipython",
    "version": 3
   },
   "file_extension": ".py",
   "mimetype": "text/x-python",
   "name": "python",
   "nbconvert_exporter": "python",
   "pygments_lexer": "ipython3",
   "version": "3.11.4"
  }
 },
 "nbformat": 4,
 "nbformat_minor": 2
}
